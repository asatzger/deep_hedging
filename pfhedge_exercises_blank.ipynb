{
  "nbformat": 4,
  "nbformat_minor": 0,
  "metadata": {
    "colab": {
      "provenance": [],
      "gpuType": "T4",
      "authorship_tag": "ABX9TyO7n3o1olKmVQHDwhX2MCCy",
      "include_colab_link": true
    },
    "kernelspec": {
      "name": "python3",
      "display_name": "Python 3"
    },
    "language_info": {
      "name": "python"
    },
    "accelerator": "GPU"
  },
  "cells": [
    {
      "cell_type": "markdown",
      "metadata": {
        "id": "view-in-github",
        "colab_type": "text"
      },
      "source": [
        "<a href=\"https://colab.research.google.com/github/asatzger/deep_hedging/blob/main/pfhedge_exercises_blank.ipynb\" target=\"_parent\"><img src=\"https://colab.research.google.com/assets/colab-badge.svg\" alt=\"Open In Colab\"/></a>"
      ]
    },
    {
      "cell_type": "code",
      "execution_count": null,
      "metadata": {
        "colab": {
          "base_uri": "https://localhost:8080/"
        },
        "id": "nRRC19Gp8LFR",
        "outputId": "8cb12c58-649b-447a-b6e8-2058fd73f919"
      },
      "outputs": [
        {
          "output_type": "stream",
          "name": "stdout",
          "text": [
            "Requirement already satisfied: pfhedge in /usr/local/lib/python3.10/dist-packages (0.21.1)\n",
            "Requirement already satisfied: torch<3.0.0,>=1.9.0 in /usr/local/lib/python3.10/dist-packages (from pfhedge) (2.0.1+cu118)\n",
            "Requirement already satisfied: tqdm<5.0.0,>=4.62.3 in /usr/local/lib/python3.10/dist-packages (from pfhedge) (4.66.1)\n",
            "Requirement already satisfied: filelock in /usr/local/lib/python3.10/dist-packages (from torch<3.0.0,>=1.9.0->pfhedge) (3.12.2)\n",
            "Requirement already satisfied: typing-extensions in /usr/local/lib/python3.10/dist-packages (from torch<3.0.0,>=1.9.0->pfhedge) (4.5.0)\n",
            "Requirement already satisfied: sympy in /usr/local/lib/python3.10/dist-packages (from torch<3.0.0,>=1.9.0->pfhedge) (1.12)\n",
            "Requirement already satisfied: networkx in /usr/local/lib/python3.10/dist-packages (from torch<3.0.0,>=1.9.0->pfhedge) (3.1)\n",
            "Requirement already satisfied: jinja2 in /usr/local/lib/python3.10/dist-packages (from torch<3.0.0,>=1.9.0->pfhedge) (3.1.2)\n",
            "Requirement already satisfied: triton==2.0.0 in /usr/local/lib/python3.10/dist-packages (from torch<3.0.0,>=1.9.0->pfhedge) (2.0.0)\n",
            "Requirement already satisfied: cmake in /usr/local/lib/python3.10/dist-packages (from triton==2.0.0->torch<3.0.0,>=1.9.0->pfhedge) (3.27.4.1)\n",
            "Requirement already satisfied: lit in /usr/local/lib/python3.10/dist-packages (from triton==2.0.0->torch<3.0.0,>=1.9.0->pfhedge) (16.0.6)\n",
            "Requirement already satisfied: MarkupSafe>=2.0 in /usr/local/lib/python3.10/dist-packages (from jinja2->torch<3.0.0,>=1.9.0->pfhedge) (2.1.3)\n",
            "Requirement already satisfied: mpmath>=0.19 in /usr/local/lib/python3.10/dist-packages (from sympy->torch<3.0.0,>=1.9.0->pfhedge) (1.3.0)\n"
          ]
        }
      ],
      "source": [
        "!pip install pfhedge"
      ]
    },
    {
      "cell_type": "code",
      "source": [
        "import matplotlib\n",
        "import matplotlib.pyplot as plt\n",
        "import numpy as np\n",
        "import seaborn\n",
        "import torch"
      ],
      "metadata": {
        "id": "ylpUdbGs8On_"
      },
      "execution_count": null,
      "outputs": []
    },
    {
      "cell_type": "code",
      "source": [
        "seaborn.set_style(\"whitegrid\")\n",
        "\n",
        "FONTSIZE = 18\n",
        "matplotlib.rcParams[\"figure.figsize\"] = (10, 5)\n",
        "matplotlib.rcParams[\"figure.dpi\"] = 300\n",
        "matplotlib.rcParams[\"figure.titlesize\"] = FONTSIZE\n",
        "matplotlib.rcParams[\"font.family\"] = \"sans-serif\"\n",
        "matplotlib.rcParams[\"legend.fontsize\"] = FONTSIZE\n",
        "matplotlib.rcParams[\"xtick.labelsize\"] = FONTSIZE\n",
        "matplotlib.rcParams[\"ytick.labelsize\"] = FONTSIZE\n",
        "matplotlib.rcParams[\"axes.labelsize\"] = FONTSIZE\n",
        "matplotlib.rcParams[\"axes.titlesize\"] = FONTSIZE\n",
        "matplotlib.rcParams[\"savefig.bbox\"] = \"tight\"\n",
        "matplotlib.rcParams[\"savefig.pad_inches\"] = 0.1\n",
        "matplotlib.rcParams[\"lines.linewidth\"] = 2\n",
        "matplotlib.rcParams[\"axes.linewidth\"] = 1.6"
      ],
      "metadata": {
        "id": "t3GLWkb78QYj"
      },
      "execution_count": null,
      "outputs": []
    },
    {
      "cell_type": "code",
      "source": [
        "torch.manual_seed(25334)\n",
        "\n",
        "if not torch.cuda.is_available():\n",
        "    raise RuntimeWarning(\n",
        "        \"CUDA is not available. \"\n",
        "        \"If you're using Google Colab, you can enable GPUs as: \"\n",
        "        \"https://colab.research.google.com/notebooks/gpu.ipynb\"\n",
        "    )\n",
        "\n",
        "DEVICE = torch.device(\"cuda:0\" if torch.cuda.is_available() else \"cpu\")\n",
        "print(\"Default device:\", DEVICE)"
      ],
      "metadata": {
        "colab": {
          "base_uri": "https://localhost:8080/"
        },
        "id": "p6W-t4wY8Sgw",
        "outputId": "e44ea600-7097-4be7-d319-37d1597d71fa"
      },
      "execution_count": null,
      "outputs": [
        {
          "output_type": "stream",
          "name": "stdout",
          "text": [
            "Default device: cuda:0\n"
          ]
        }
      ]
    },
    {
      "cell_type": "code",
      "source": [
        "def to_numpy(tensor: torch.Tensor) -> np.array:\n",
        "    return tensor.cpu().detach().numpy()"
      ],
      "metadata": {
        "id": "KDiNubJc8aS4"
      },
      "execution_count": null,
      "outputs": []
    },
    {
      "cell_type": "markdown",
      "source": [
        "We consider a `BrownianStock`, which is a stock following the geometric Brownian motion, and a `EuropeanOption` which is contingent on it.\n",
        "\n",
        "We assume that the stock has a transaction cost given by `cost` (cost = $10^-4$ corresponds to a proportional transaction cost of 1 basis point)."
      ],
      "metadata": {
        "id": "mQsQsHav8fH1"
      }
    },
    {
      "cell_type": "markdown",
      "source": [
        "## Hedger Creation\n",
        "We compare the performance of Imaki et al (2021)'s efficient neural network model for efficient deep hedging where rebalancing only happens when a certain band around the previous epoch's hedge ratio $\\delta_t$ is exceeded (better results than simple feed-forward model proposed by Buehler et al (2019)) with the model hedge, the Black-Scholes delta-hedging strategy (adjusting every epoch to match delta of underlying)."
      ],
      "metadata": {
        "id": "MFUCbEC181yI"
      }
    },
    {
      "cell_type": "markdown",
      "source": [
        "### Black-Scholes delta hedging strategy"
      ],
      "metadata": {
        "id": "OfStTieH_kZc"
      }
    },
    {
      "cell_type": "markdown",
      "source": [
        "### No-Transaction Band Network"
      ],
      "metadata": {
        "id": "AmYJSN0t_vGc"
      }
    }
  ]
}